{
  "nbformat": 4,
  "nbformat_minor": 0,
  "metadata": {
    "colab": {
      "name": "Deep_Dataset_Generation.ipynb",
      "provenance": [],
      "collapsed_sections": []
    },
    "kernelspec": {
      "name": "python3",
      "display_name": "Python 3"
    },
    "language_info": {
      "name": "python"
    }
  },
  "cells": [
    {
      "cell_type": "markdown",
      "source": [
        "# **National Id**"
      ],
      "metadata": {
        "id": "trJkHv5UY4M6"
      }
    },
    {
      "cell_type": "code",
      "source": [
        "from google.colab import drive\n",
        "drive.mount('/content/gdrive')"
      ],
      "metadata": {
        "id": "ASukWpJxZ3Xp",
        "colab": {
          "base_uri": "https://localhost:8080/"
        },
        "outputId": "87ea8d45-373a-42be-bfd3-cdb01d2999aa"
      },
      "execution_count": null,
      "outputs": [
        {
          "output_type": "stream",
          "name": "stdout",
          "text": [
            "Mounted at /content/gdrive\n"
          ]
        }
      ]
    },
    {
      "cell_type": "code",
      "source": [
        "from PIL import Image, ImageDraw, ImageFont\n",
        "from pathlib import Path\n",
        "from PIL import Image\n",
        "import csv\n",
        "import h5py\n",
        "import numpy as np\n",
        "import random \n",
        "\n",
        "\n",
        "##### Bank Card requirements\n",
        "\n",
        "pattern = np.array([2, 1])\n",
        "pattern = np.tile(pattern, 7)\n",
        "pattern = np.append(pattern, 2)\n",
        "# print(pattern)\n",
        "\n",
        "bank_type = [603799, 589210, 627648, 627961, 603770, 628023, 627760, 502908,\n",
        "             627412, 622106, 502229, 629599, 627488, 621986, 639346, 639607, \n",
        "             504706, 502806, 502938, 603769, 610433, 627353, 585983, 589463, \n",
        "             627381, 639370, 507677, 628157, 505801, 606256, 606373]\n",
        "\n",
        "indices = np.arange(10, 1, -1)             \n",
        "# print(indices)\n",
        "\n",
        "def num_to_list(n):\n",
        "  return [int(x) for x in str(n)]        \n",
        "\n",
        "\n",
        "def bank_card_control_digit(num):\n",
        "  mul = np.multiply(pattern, num)\n",
        "  mul = [d-9 if d>9 else d for d in mul]\n",
        "  sum = np.sum(mul)\n",
        "  control = 10 - (sum % 10)\n",
        "  if(control == 10):\n",
        "      return 0\n",
        "  return control\n",
        "\n",
        "def bank_num_generator():\n",
        "  idx = random.randint(0, len(bank_type) -1)\n",
        "  # append first 6 digits to card numbers\n",
        "  num = num_to_list(bank_type[idx])\n",
        "  # generate 9 next random digits\n",
        "  for i in range(9):\n",
        "    num.append(random.randint(0, 9))\n",
        "  # calculate control digit\n",
        "  control = bank_card_control_digit(num)\n",
        "  num.append(control)\n",
        "  return ''.join(map(str, num))  \n",
        "\n",
        "\n",
        "##### National ID requirements\n",
        "\n",
        "def id_card_control_digit(num):\n",
        "  mul = np.multiply(indices, num)\n",
        "  sum = np.sum(mul) % 11\n",
        "  control = 0\n",
        "  if sum < 2:\n",
        "    control = sum\n",
        "  else: control = 11 - sum\n",
        "  return control\n",
        "\n",
        "def id_num_generator():\n",
        "  # generate 9 first random digits\n",
        "  num = []\n",
        "  for i in range(9):\n",
        "    num.append(random.randint(0, 9))\n",
        "    \n",
        "  # calculate control digit\n",
        "  control = id_card_control_digit(num)\n",
        "  num.append(control)\n",
        "  return ''.join(map(str, num))  \n",
        "\n",
        "def convert_to_farsi(id):\n",
        "    s = list(id)\n",
        "    for i in range(len(s)):\n",
        "        if(s[i] == \"0\"):\n",
        "            s[i] = \"۰\"\n",
        "        elif (s[i] == \"1\"):\n",
        "            s[i] = \"۱\"\n",
        "        elif (s[i] == \"2\"):\n",
        "            s[i] = \"۲\"\n",
        "        elif (s[i] == \"3\"):\n",
        "            s[i] = \"۳\"\n",
        "        elif (s[i] == \"4\"):\n",
        "            s[i] = \"۴\"\n",
        "        elif (s[i] == \"5\"):\n",
        "            s[i] = \"۵\"\n",
        "        elif (s[i] == \"6\"):\n",
        "            s[i] = \"۶\"\n",
        "        elif (s[i] == \"7\"):\n",
        "            s[i] = \"۷\"\n",
        "        elif (s[i] == \"8\"):\n",
        "            s[i] = \"۸\"\n",
        "        elif (s[i] == \"9\"):\n",
        "            s[i] = \"۹\"\n",
        "        \n",
        "    return \"\".join(s)"
      ],
      "metadata": {
        "id": "KJ_5w2SejhXw"
      },
      "execution_count": null,
      "outputs": []
    },
    {
      "cell_type": "code",
      "source": [
        "import pandas as pd  \n",
        " \n",
        "path = Path(\"/content/gdrive/My Drive/newData3/\")\n",
        "path.mkdir(parents=True, exist_ok=True)\n",
        "\n",
        "\n",
        "dict = {'images': [], 'labels': []}  \n",
        "df = pd.DataFrame(dict) \n",
        "df.to_csv(path / 'data.csv') "
      ],
      "metadata": {
        "id": "u-2mXSPdQa-S"
      },
      "execution_count": null,
      "outputs": []
    },
    {
      "cell_type": "code",
      "source": [
        "import pandas as pd  \n",
        "from csv import DictWriter\n",
        "\n",
        "field_names = ['','images','labels']\n",
        "  \n",
        "def store_png(images, labels, start):\n",
        "    with open(path / 'data.csv', 'a') as f_object:\n",
        "        dictwriter_object = DictWriter(f_object, fieldnames=field_names)\n",
        "\n",
        "        for i in range(len(images)):\n",
        "            image_name =(str(i + start) + \".png\")\n",
        "            dict = {'' : str(i+start) ,'images': image_name, 'labels': labels[i]}  \n",
        "            dictwriter_object.writerow(dict)\n",
        "            images[i].save(path / image_name)\n",
        "        f_object.close()\n",
        "\n",
        "    \n",
        "    # dict = {'images': images_path, 'labels': labels}  \n",
        "    # df = pd.DataFrame(dict) \n",
        "    # df.to_csv(path / 'data.csv') \n"
      ],
      "metadata": {
        "id": "eF9tA36NBWPP"
      },
      "execution_count": null,
      "outputs": []
    },
    {
      "cell_type": "code",
      "source": [
        "Images = [] \n",
        "Labels = []\n",
        "\n",
        "\n",
        "for i in range(2500):\n",
        "    # image, cardNumber = generateBankCardData()\n",
        "    # image, cardNumber = generateOldNationalIdData()\n",
        "    image, cardNumber = generateNewNationalIdData()\n",
        "    Images.append(image)\n",
        "    Labels.append(cardNumber)\n"
      ],
      "metadata": {
        "id": "kGw1Y2NtJIhs"
      },
      "execution_count": null,
      "outputs": []
    },
    {
      "cell_type": "code",
      "source": [
        "start = 0"
      ],
      "metadata": {
        "id": "RV3KFW8AMRis"
      },
      "execution_count": null,
      "outputs": []
    },
    {
      "cell_type": "code",
      "source": [
        "store_png(Images, Labels, start)\n",
        "start += len(Images)"
      ],
      "metadata": {
        "id": "CFjqS-VxK1Xj"
      },
      "execution_count": null,
      "outputs": []
    },
    {
      "cell_type": "code",
      "source": [
        "start"
      ],
      "metadata": {
        "colab": {
          "base_uri": "https://localhost:8080/"
        },
        "id": "kqyd0JR1MJv1",
        "outputId": "5f3885d7-b9b0-40c4-e977-284ae1ba75e9"
      },
      "execution_count": null,
      "outputs": [
        {
          "output_type": "execute_result",
          "data": {
            "text/plain": [
              "10000"
            ]
          },
          "metadata": {},
          "execution_count": 22
        }
      ]
    },
    {
      "cell_type": "code",
      "execution_count": null,
      "metadata": {
        "id": "r4DyuHbryM0Q"
      },
      "outputs": [],
      "source": [
        "def generateNewNationalIdData():\n",
        "    # NationalId = \"0022939776\"\n",
        "    NationalId = id_num_generator()\n",
        "    NationalIdFa = convert_to_farsi(NationalId)\n",
        "\n",
        "    img = Image.open(\"background_hooshmand_barik.jpg\")\n",
        "    d = ImageDraw.Draw(img)\n",
        "    font = ImageFont.truetype(\"Yekan.ttf\", size=35)\n",
        "    d.text((50,15), NationalId , fill=(0,0,0), font=font) \n",
        "    return img, NationalIdFa\n",
        "\n",
        "def generateOldNationalIdData():\n",
        "    # NationalId = \"۰۹۳-۹۰۹۲۰۰-۱\"\n",
        "    NationalId = id_num_generator()\n",
        "    NationalIdFa = convert_to_farsi(NationalId)\n",
        "    BankNumberWithSpace = NationalIdFa[0:3] + \"-\" + NationalIdFa[3:9] + \"-\" + NationalIdFa[-1]\n",
        "    img = Image.open(\"background_ghadimi_asli.jpg\")\n",
        "    d = ImageDraw.Draw(img)\n",
        "    font = ImageFont.truetype(\"yas.ttf\", size=40)\n",
        "    d.text((35,0), BankNumberWithSpace, fill=(0,0,0), font=font)\n",
        "    return img, NationalIdFa\n"
      ]
    },
    {
      "cell_type": "markdown",
      "source": [
        "# Unused"
      ],
      "metadata": {
        "id": "_Xyp1YALSdJH"
      }
    },
    {
      "cell_type": "code",
      "source": [
        "\n",
        "hdf5_dir_nationalId = Path(\"/content/gdrive/My Drive/data/NationalId/\")\n",
        "hdf5_dir_nationalId.mkdir(parents=True, exist_ok=True)\n",
        "\n",
        "\n",
        "def store_new_nationalIdData(images_path, labels):\n",
        "    num_images = len(images)\n",
        "\n",
        "    # Create a new HDF5 file\n",
        "    file = h5py.File(hdf5_dir_nationalId / f\"NewNationalIdData_{num_images}.h5\", \"w\")\n",
        "\n",
        "    # Create a dataset in the file\n",
        "    dataset = file.create_dataset(\n",
        "        \"images\", np.shape(images), h5py.h5t.STD_U8BE, data=images\n",
        "    )\n",
        "    meta_set = file.create_dataset(\n",
        "        \"meta\", np.shape(labels), h5py.string_dtype(encoding='utf-8'), data=labels\n",
        "    )\n",
        "    file.close()\n",
        "\n",
        "\n",
        "def store_old_nationalIdData(images, labels):\n",
        "    num_images = len(images)\n",
        "\n",
        "    # Create a new HDF5 file\n",
        "    file = h5py.File(hdf5_dir_nationalId / f\"OldNationalIdData_{num_images}.h5\", \"w\")\n",
        "\n",
        "    # Create a dataset in the file\n",
        "    dataset = file.create_dataset(\n",
        "        \"images\", np.shape(images), h5py.h5t.STD_U8BE, data=images\n",
        "    )\n",
        "    meta_set = file.create_dataset(\n",
        "        \"meta\", np.shape(labels), h5py.string_dtype(encoding='utf-8'), data=labels\n",
        "    )\n",
        "    file.close()\n",
        "\n",
        "\n",
        "def read_NationalIdData(num_images):\n",
        "    images, labels = [], []\n",
        "\n",
        "    # Open the HDF5 file\n",
        "    file = h5py.File(hdf5_dir_nationalId / f\"NationalIdData_{num_images}.h5\", \"r+\")\n",
        "\n",
        "    images = np.array(file[\"/images\"]).astype(\"uint8\")\n",
        "    labels = np.array(file[\"/meta\"]).astype(\"str\")\n",
        "\n",
        "    return images, labels"
      ],
      "metadata": {
        "id": "DWpvwYSHZMml"
      },
      "execution_count": null,
      "outputs": []
    },
    {
      "cell_type": "code",
      "source": [
        "OldNationalIdImages = [] \n",
        "OldNationalIdLabels = []\n",
        "\n",
        "NewNationalIdImages = [] \n",
        "NewNationalIdLabels = []\n",
        "\n",
        "for i in range(50000):\n",
        "    image, cardNumber = generateNewNationalIdData()\n",
        "    NewNationalIdImages.append(image)\n",
        "    NewNationalIdLabels.append(cardNumber)\n",
        "    image, cardNumber = generateOldNationalIdData()\n",
        "    OldNationalIdImages.append(image)\n",
        "    OldNationalIdLabels.append(cardNumber)\n",
        "    "
      ],
      "metadata": {
        "id": "eVlozn8EZBac"
      },
      "execution_count": null,
      "outputs": []
    },
    {
      "cell_type": "code",
      "source": [
        "store_new_nationalIdData(NewNationalIdImages, NewNationalIdLabels)"
      ],
      "metadata": {
        "id": "Fml2ybl0fed6"
      },
      "execution_count": null,
      "outputs": []
    },
    {
      "cell_type": "code",
      "source": [
        "store_old_nationalIdData(OldNationalIdImages, OldNationalIdLabels)"
      ],
      "metadata": {
        "id": "_fJcFtuO0v74"
      },
      "execution_count": null,
      "outputs": []
    },
    {
      "cell_type": "code",
      "source": [
        "readedImgN, readedLabelsN = read_NationalIdData(100000) \n",
        "display(Image.fromarray(readedImgN[100], 'RGB'))\n",
        "print(readedLabelsN[100])"
      ],
      "metadata": {
        "id": "1gWcbi_4nFQN"
      },
      "execution_count": null,
      "outputs": []
    },
    {
      "cell_type": "markdown",
      "source": [
        "# Bank Card "
      ],
      "metadata": {
        "id": "nGGSBMGpRiNT"
      }
    },
    {
      "cell_type": "code",
      "source": [
        "from PIL import Image, ImageDraw, ImageFont\n",
        "import numpy as np\n",
        "\n",
        "def generateBankCardData():\n",
        "    BankNumber = bank_num_generator()\n",
        "    BankNumberWithSpace = BankNumber[0:4] + \"  \" + BankNumber[4:8] + \"  \" + BankNumber[8:12] + \"  \" + BankNumber[12:16];\n",
        "\n",
        "    fonts = [\"calibri.ttf\", \"arial.ttf\", \"bahnschrift.ttf\", \"calibrib.ttf\", \"comic.ttf\",\n",
        "            \"framd.ttf\", \"GOTHIC.TTF\", \"HARLOWSI.TTF\", \"micross.ttf\", \"segoeui.ttf\"]\n",
        "    fontSize = [26, 23, 24, 25, 21,\n",
        "                22, 23, 26, 23, 23]\n",
        "\n",
        "    backGrounds = [\"background1.jpg\", \"background2.jpg\", \"background3.jpg\",\n",
        "                \"background4.jpg\", \"background5.jpg\", \"background6.jpg\",\n",
        "                \"background7.jpg\", \"background8.jpg\", \"background9.jpg\", \"background10.jpg\"]\n",
        "    FontColor = [(0,0,0), (255,255,255), (0,0,0),\n",
        "                (230,184,0), (0,0,0), (0,0,0),\n",
        "                (0,0,0), (0,0,0), (0,0,0), (0,0,0)]\n",
        "\n",
        "    FontRandomIdx = random.randint(0, len(fonts) -1)\n",
        "    BackgroundRandomIdx = random.randint(0, len(backGrounds) -1)\n",
        "\n",
        "    # print(\"font:\",fonts[FontRandomIdx])\n",
        "    # print(\"font size:\",fontSize[FontRandomIdx])\n",
        "    # print(\"background:\",backGrounds[BackgroundRandomIdx])\n",
        "    # print(\"font color\",FontColor[BackgroundRandomIdx])\n",
        "\n",
        "\n",
        "    img = Image.open(backGrounds[BackgroundRandomIdx])\n",
        "    d = ImageDraw.Draw(img)\n",
        "\n",
        "    font = ImageFont.truetype(fonts[FontRandomIdx], size=fontSize[FontRandomIdx])\n",
        "    d.text((5,4), BankNumberWithSpace, fill=FontColor[BackgroundRandomIdx], font=font)\n",
        "    # display(img)\n",
        "    # print(\"label: \", BankNumber)\n",
        "    return img, str(BankNumber)"
      ],
      "metadata": {
        "id": "AxXeB3JQeNGE"
      },
      "execution_count": null,
      "outputs": []
    },
    {
      "cell_type": "markdown",
      "source": [
        "# Unused bank"
      ],
      "metadata": {
        "id": "mOV8CvNPSsZH"
      }
    },
    {
      "cell_type": "code",
      "source": [
        "hdf5_dir = Path(\"/content/gdrive/My Drive/data/KarteBanki/\")\n",
        "hdf5_dir.mkdir(parents=True, exist_ok=True)\n",
        "\n",
        "\n",
        "def store(images, labels):\n",
        "    num_images = len(images)\n",
        "\n",
        "    # Create a new HDF5 file\n",
        "    file = h5py.File(hdf5_dir / f\"BankCardData_{num_images}.h5\", \"w\")\n",
        "\n",
        "    # Create a dataset in the file\n",
        "    dataset = file.create_dataset(\n",
        "        \"images\", np.shape(images), h5py.h5t.STD_U8BE, data=images\n",
        "    )\n",
        "    meta_set = file.create_dataset(\n",
        "        \"meta\", np.shape(labels), h5py.string_dtype(encoding='utf-8'), data=labels\n",
        "    )\n",
        "    file.close()\n",
        "\n",
        "\n",
        "def Read(num_images):\n",
        "    images, labels = [], []\n",
        "\n",
        "    # Open the HDF5 file\n",
        "    file = h5py.File(hdf5_dir / f\"BankCardData_{num_images}.h5\", \"r+\")\n",
        "\n",
        "    images = np.array(file[\"/images\"]).astype(\"uint8\")\n",
        "    labels = np.array(file[\"/meta\"]).astype(\"str\")\n",
        "\n",
        "    return images, labels"
      ],
      "metadata": {
        "id": "uubNfUCHOot2"
      },
      "execution_count": null,
      "outputs": []
    },
    {
      "cell_type": "code",
      "source": [
        "Images = [] \n",
        "Labels = []\n",
        "\n",
        "for i in range(100000):\n",
        "    image, cardNumber = generateBankCardData()\n",
        "    Images.append(image)\n",
        "    Labels.append(cardNumber)\n"
      ],
      "metadata": {
        "id": "fYTJYjtsGky1"
      },
      "execution_count": null,
      "outputs": []
    },
    {
      "cell_type": "code",
      "source": [
        "store(Images, Labels)"
      ],
      "metadata": {
        "id": "9fMWKP48lEsW"
      },
      "execution_count": null,
      "outputs": []
    },
    {
      "cell_type": "code",
      "source": [
        "readedImg, readedLabels = Read(100000) \n",
        "display(Image.fromarray(readedImg[99999], 'RGB'))\n",
        "print(readedLabels[99999])"
      ],
      "metadata": {
        "colab": {
          "base_uri": "https://localhost:8080/",
          "height": 525
        },
        "id": "Mit8P6mDLLgF",
        "outputId": "cb2d1a36-1a74-43f4-bd3a-44916ef97a7a"
      },
      "execution_count": null,
      "outputs": [
        {
          "output_type": "error",
          "ename": "OSError",
          "evalue": "ignored",
          "traceback": [
            "\u001b[0;31m---------------------------------------------------------------------------\u001b[0m",
            "\u001b[0;31mOSError\u001b[0m                                   Traceback (most recent call last)",
            "\u001b[0;32m<ipython-input-14-e77b2e1879af>\u001b[0m in \u001b[0;36m<module>\u001b[0;34m()\u001b[0m\n\u001b[0;32m----> 1\u001b[0;31m \u001b[0mreadedImg\u001b[0m\u001b[0;34m,\u001b[0m \u001b[0mreadedLabels\u001b[0m \u001b[0;34m=\u001b[0m \u001b[0mRead\u001b[0m\u001b[0;34m(\u001b[0m\u001b[0;36m100000\u001b[0m\u001b[0;34m)\u001b[0m\u001b[0;34m\u001b[0m\u001b[0;34m\u001b[0m\u001b[0m\n\u001b[0m\u001b[1;32m      2\u001b[0m \u001b[0mdisplay\u001b[0m\u001b[0;34m(\u001b[0m\u001b[0mImage\u001b[0m\u001b[0;34m.\u001b[0m\u001b[0mfromarray\u001b[0m\u001b[0;34m(\u001b[0m\u001b[0mreadedImg\u001b[0m\u001b[0;34m[\u001b[0m\u001b[0;36m99999\u001b[0m\u001b[0;34m]\u001b[0m\u001b[0;34m,\u001b[0m \u001b[0;34m'RGB'\u001b[0m\u001b[0;34m)\u001b[0m\u001b[0;34m)\u001b[0m\u001b[0;34m\u001b[0m\u001b[0;34m\u001b[0m\u001b[0m\n\u001b[1;32m      3\u001b[0m \u001b[0mprint\u001b[0m\u001b[0;34m(\u001b[0m\u001b[0mreadedLabels\u001b[0m\u001b[0;34m[\u001b[0m\u001b[0;36m99999\u001b[0m\u001b[0;34m]\u001b[0m\u001b[0;34m)\u001b[0m\u001b[0;34m\u001b[0m\u001b[0;34m\u001b[0m\u001b[0m\n",
            "\u001b[0;32m<ipython-input-13-730693214fe1>\u001b[0m in \u001b[0;36mRead\u001b[0;34m(num_images)\u001b[0m\n\u001b[1;32m     29\u001b[0m     \u001b[0;31m# Open the HDF5 file\u001b[0m\u001b[0;34m\u001b[0m\u001b[0;34m\u001b[0m\u001b[0;34m\u001b[0m\u001b[0m\n\u001b[1;32m     30\u001b[0m     \u001b[0mpath\u001b[0m \u001b[0;34m=\u001b[0m \u001b[0;34m\"https://drive.google.com/file/d/1-CWK9UjYNUS4rmmmASF8K5NkJ_2jyTvu/view?usp=sharing\"\u001b[0m\u001b[0;34m\u001b[0m\u001b[0;34m\u001b[0m\u001b[0m\n\u001b[0;32m---> 31\u001b[0;31m     \u001b[0mfile\u001b[0m \u001b[0;34m=\u001b[0m \u001b[0mh5py\u001b[0m\u001b[0;34m.\u001b[0m\u001b[0mFile\u001b[0m\u001b[0;34m(\u001b[0m\u001b[0mpath\u001b[0m\u001b[0;34m,\u001b[0m \u001b[0;34m\"r+\"\u001b[0m\u001b[0;34m)\u001b[0m\u001b[0;34m\u001b[0m\u001b[0;34m\u001b[0m\u001b[0m\n\u001b[0m\u001b[1;32m     32\u001b[0m     \u001b[0;31m# file = h5py.File(hdf5_dir / f\"BankCardData_{num_images}.h5\", \"r+\")\u001b[0m\u001b[0;34m\u001b[0m\u001b[0;34m\u001b[0m\u001b[0;34m\u001b[0m\u001b[0m\n\u001b[1;32m     33\u001b[0m \u001b[0;34m\u001b[0m\u001b[0m\n",
            "\u001b[0;32m/usr/local/lib/python3.7/dist-packages/h5py/_hl/files.py\u001b[0m in \u001b[0;36m__init__\u001b[0;34m(self, name, mode, driver, libver, userblock_size, swmr, rdcc_nslots, rdcc_nbytes, rdcc_w0, track_order, fs_strategy, fs_persist, fs_threshold, **kwds)\u001b[0m\n\u001b[1;32m    425\u001b[0m                                fapl, fcpl=make_fcpl(track_order=track_order, fs_strategy=fs_strategy,\n\u001b[1;32m    426\u001b[0m                                fs_persist=fs_persist, fs_threshold=fs_threshold),\n\u001b[0;32m--> 427\u001b[0;31m                                swmr=swmr)\n\u001b[0m\u001b[1;32m    428\u001b[0m \u001b[0;34m\u001b[0m\u001b[0m\n\u001b[1;32m    429\u001b[0m             \u001b[0;32mif\u001b[0m \u001b[0misinstance\u001b[0m\u001b[0;34m(\u001b[0m\u001b[0mlibver\u001b[0m\u001b[0;34m,\u001b[0m \u001b[0mtuple\u001b[0m\u001b[0;34m)\u001b[0m\u001b[0;34m:\u001b[0m\u001b[0;34m\u001b[0m\u001b[0;34m\u001b[0m\u001b[0m\n",
            "\u001b[0;32m/usr/local/lib/python3.7/dist-packages/h5py/_hl/files.py\u001b[0m in \u001b[0;36mmake_fid\u001b[0;34m(name, mode, userblock_size, fapl, fcpl, swmr)\u001b[0m\n\u001b[1;32m    190\u001b[0m         \u001b[0mfid\u001b[0m \u001b[0;34m=\u001b[0m \u001b[0mh5f\u001b[0m\u001b[0;34m.\u001b[0m\u001b[0mopen\u001b[0m\u001b[0;34m(\u001b[0m\u001b[0mname\u001b[0m\u001b[0;34m,\u001b[0m \u001b[0mflags\u001b[0m\u001b[0;34m,\u001b[0m \u001b[0mfapl\u001b[0m\u001b[0;34m=\u001b[0m\u001b[0mfapl\u001b[0m\u001b[0;34m)\u001b[0m\u001b[0;34m\u001b[0m\u001b[0;34m\u001b[0m\u001b[0m\n\u001b[1;32m    191\u001b[0m     \u001b[0;32melif\u001b[0m \u001b[0mmode\u001b[0m \u001b[0;34m==\u001b[0m \u001b[0;34m'r+'\u001b[0m\u001b[0;34m:\u001b[0m\u001b[0;34m\u001b[0m\u001b[0;34m\u001b[0m\u001b[0m\n\u001b[0;32m--> 192\u001b[0;31m         \u001b[0mfid\u001b[0m \u001b[0;34m=\u001b[0m \u001b[0mh5f\u001b[0m\u001b[0;34m.\u001b[0m\u001b[0mopen\u001b[0m\u001b[0;34m(\u001b[0m\u001b[0mname\u001b[0m\u001b[0;34m,\u001b[0m \u001b[0mh5f\u001b[0m\u001b[0;34m.\u001b[0m\u001b[0mACC_RDWR\u001b[0m\u001b[0;34m,\u001b[0m \u001b[0mfapl\u001b[0m\u001b[0;34m=\u001b[0m\u001b[0mfapl\u001b[0m\u001b[0;34m)\u001b[0m\u001b[0;34m\u001b[0m\u001b[0;34m\u001b[0m\u001b[0m\n\u001b[0m\u001b[1;32m    193\u001b[0m     \u001b[0;32melif\u001b[0m \u001b[0mmode\u001b[0m \u001b[0;32min\u001b[0m \u001b[0;34m[\u001b[0m\u001b[0;34m'w-'\u001b[0m\u001b[0;34m,\u001b[0m \u001b[0;34m'x'\u001b[0m\u001b[0;34m]\u001b[0m\u001b[0;34m:\u001b[0m\u001b[0;34m\u001b[0m\u001b[0;34m\u001b[0m\u001b[0m\n\u001b[1;32m    194\u001b[0m         \u001b[0mfid\u001b[0m \u001b[0;34m=\u001b[0m \u001b[0mh5f\u001b[0m\u001b[0;34m.\u001b[0m\u001b[0mcreate\u001b[0m\u001b[0;34m(\u001b[0m\u001b[0mname\u001b[0m\u001b[0;34m,\u001b[0m \u001b[0mh5f\u001b[0m\u001b[0;34m.\u001b[0m\u001b[0mACC_EXCL\u001b[0m\u001b[0;34m,\u001b[0m \u001b[0mfapl\u001b[0m\u001b[0;34m=\u001b[0m\u001b[0mfapl\u001b[0m\u001b[0;34m,\u001b[0m \u001b[0mfcpl\u001b[0m\u001b[0;34m=\u001b[0m\u001b[0mfcpl\u001b[0m\u001b[0;34m)\u001b[0m\u001b[0;34m\u001b[0m\u001b[0;34m\u001b[0m\u001b[0m\n",
            "\u001b[0;32mh5py/_objects.pyx\u001b[0m in \u001b[0;36mh5py._objects.with_phil.wrapper\u001b[0;34m()\u001b[0m\n",
            "\u001b[0;32mh5py/_objects.pyx\u001b[0m in \u001b[0;36mh5py._objects.with_phil.wrapper\u001b[0;34m()\u001b[0m\n",
            "\u001b[0;32mh5py/h5f.pyx\u001b[0m in \u001b[0;36mh5py.h5f.open\u001b[0;34m()\u001b[0m\n",
            "\u001b[0;31mOSError\u001b[0m: Unable to open file (unable to open file: name = 'https://drive.google.com/file/d/1-CWK9UjYNUS4rmmmASF8K5NkJ_2jyTvu/view?usp=sharing', errno = 2, error message = 'No such file or directory', flags = 1, o_flags = 2)"
          ]
        }
      ]
    }
  ]
}